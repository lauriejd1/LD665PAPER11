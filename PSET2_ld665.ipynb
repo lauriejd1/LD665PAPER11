{
  "cells": [
    {
      "cell_type": "markdown",
      "metadata": {
        "id": "view-in-github",
        "colab_type": "text"
      },
      "source": [
        "<a href=\"https://colab.research.google.com/github/lauriejd1/LD665PAPER11/blob/main/PSET2_ld665.ipynb\" target=\"_parent\"><img src=\"https://colab.research.google.com/assets/colab-badge.svg\" alt=\"Open In Colab\"/></a>"
      ]
    },
    {
      "cell_type": "markdown",
      "id": "fa9fe0bd",
      "metadata": {
        "id": "fa9fe0bd"
      },
      "source": [
        "# Problem set \\#2\n",
        "\n",
        "## This problem set should be completed once you have finished Lecture 2 '_Working with and visualising climate and environmental data_'\n",
        "\n",
        "Pt. II, Paper 11: Data Analysis in Climate and Environmental Science \\\n",
        "_November 2024_\n",
        "\n",
        "In **Lecture 2** we covered the following:\n",
        "\n",
        "*   Logical indexing, cont'd\n",
        "*   Manipulating time series data\n",
        "*   Data visualisation techiniques\n",
        "*   Using Pandas and Xarray to extract tabulated and netCDF data\n",
        "*   Plotting spatial data using the Cartopy mapping package\n",
        "\n",
        "_The aims of this problem set_ are for you to become more familiar with:\n",
        "\n",
        "*   using common data formats (tabular, NetCDF) that include time and spatial structures\n",
        "*   using functionalities in Pandas, NumPy, and Xarray\n",
        "*   intuiting use of logical indexing and data parsing\n",
        "*   developing effective data visualization techniques in Python\n",
        "\n",
        "**Bringing it all together**\n",
        "\n",
        "After importing the necessary libraries and filespace, there will be 2 main sections to complete in this problem set. Each section contains several sub-tasks.\n",
        "\n",
        "_Please acknowledge use of AI-support or otherwise somewhere in your problem set. You will not be penalised for this -- this is just good, honest practice!_\n"
      ]
    },
    {
      "cell_type": "markdown",
      "id": "54039ae1",
      "metadata": {
        "id": "54039ae1"
      },
      "source": [
        "### Import libraries"
      ]
    },
    {
      "cell_type": "code",
      "execution_count": null,
      "id": "338bdb22",
      "metadata": {
        "id": "338bdb22"
      },
      "outputs": [],
      "source": [
        "## Import NumPy as the object 'np', for your standard suite of mathematical tools\n",
        "\n",
        "\n",
        "## Import Pandas as the object 'pd', for reading in tabular data like CSV files\n",
        "\n",
        "\n",
        "## Import Xarray as the object 'xr' for reading in multi-dimensional arrays like netCDF files\n",
        "\n",
        "\n",
        "## Import matplotlib as 'plt' for all things plotting (Hint - you will need pyplot from matplotlib)\n",
        "\n",
        "\n",
        "### ### ### ### ### ### ### ### ###\n",
        "### ### ++ Do not modify ++ ### ###\n",
        "\n",
        "## inline plotting (i.e., show plots in notebook)\n",
        "%matplotlib inline\n",
        "\n",
        "## Import Cartopy mapping software as ccrs:\n",
        "!pip install cartopy\n",
        "import cartopy.crs as ccrs\n",
        "from cartopy.mpl.gridliner import LONGITUDE_FORMATTER, LATITUDE_FORMATTER\n",
        "from cartopy.mpl.ticker import LongitudeFormatter, LatitudeFormatter"
      ]
    },
    {
      "cell_type": "markdown",
      "id": "9a7cc8c1",
      "metadata": {
        "id": "9a7cc8c1"
      },
      "source": [
        "### _Please mount the necessary filespace from our shared Google Drive_:"
      ]
    },
    {
      "cell_type": "code",
      "execution_count": null,
      "id": "62b35a40",
      "metadata": {
        "id": "62b35a40"
      },
      "outputs": [],
      "source": [
        "## As before, you will need to mount your filespace to access files from your Google Drive.\n"
      ]
    },
    {
      "cell_type": "markdown",
      "id": "01561313",
      "metadata": {
        "id": "01561313"
      },
      "source": [
        "# Section 1: Exploring the Central England Temperature (CET) time series\n",
        "\n",
        "### Movitation / background:\n",
        "\n",
        "The CET time series is an extraordinary dataset—it's the _oldest_ continuous meteorological record in the world, stretching back to 1659!  It was produced by combining records from locations across central England; early records were from individual observers in larger cities like London, whilst later measurements came from government-provided weather stations across the region. The CET captures daily and monthly temperatures across a central region of England-long before modern climate monitoring began. Because of its long time span, the CET has been widely used by scientists and historians to study how historical weather patterns, seasonal variations, and longer-term climate has changed from the Little Ice Age into present.\n",
        "\n",
        "(An interesting aside: the driving force behind this dataset, Dr. Gordon Manley, was both an alum and, later, faculty of our very own Department.  In fact, he actually conducted some of his CET compilation efforts _right here_ in Cambridge ... This is a legacy to be proud of!  You can read more about Dr. Manley's CET efforts in the citations below.)\n",
        "\n",
        "Here, you're going to explore the monthly CET dataset to better understand how our local climate is changing: that is, how seasonal patterns have shifted, how temperature trends have shifted, and where recent temperatures sit from a longer-term context. The aim is for you to develop tools for time series analysis, visualization and interpretation.\n",
        "\n",
        "##### References on the CET time series, and Dr. Gordon Manley:\n",
        "\n",
        "Lamb, H.H., Craddock, J.M., Grove, J.M., Oldfield, F. and Tooley, M.J. (1981), The life and work of Professor Gordon Manley (1902–1980). Weather, 36: 220-231. https://doi.org/10.1002/j.1477-8696.1981.tb05407.x\n",
        "\n",
        "Manley, G. (1953), The mean temperature of central England: 1698-1952. Quarterly Journal of the Royal Meteorological Society, 79, 242-261.\n",
        "\n",
        "Manley, G. (1974), Central England temperatures: monthly means 1659 to 1973. Quarterly Journal of the Royal Meteorological Society, 100, 389-405.\n",
        "\n",
        "Parker, D.E., Legg, T.P. and Folland, C.K. (1992), A new daily central England temperature series, 1772–1991. Int. J. Climatol., 12: 317-342. https://doi.org/10.1002/joc.3370120402"
      ]
    },
    {
      "cell_type": "markdown",
      "id": "f532d69c",
      "metadata": {
        "id": "f532d69c"
      },
      "source": [
        "## Data\n",
        "The Hadley Centre (UK MET Office) maintains an up-to-date version of the CET time series, here: https://www.metoffice.gov.uk/hadobs/hadcet/.  The accompanying data file, \"CET_Nov2024.csv\" was created by going to \"Download Data\" (https://www.metoffice.gov.uk/hadobs/hadcet/data/download.html), and grabbing the monthly \"Mean HadCET Data\" for the \"Current version (v2.1.0.0)\".   "
      ]
    },
    {
      "cell_type": "markdown",
      "id": "fbd1913a",
      "metadata": {
        "id": "fbd1913a"
      },
      "source": [
        "## **1.1**. _Get to know your data_\n",
        "\n",
        "_Load in the CET series from \"CET_Nov2024.csv\" using Pandas, and plot time vs. monthly temperature. Please_:\n",
        "* _ensure accurate labels and x- and y-limits are used, and use a linewidth of 0.5 for your plot_;\n",
        "* _identify and replace any missing temperature values with something more sensible_."
      ]
    },
    {
      "cell_type": "code",
      "execution_count": null,
      "id": "e43b19de",
      "metadata": {
        "id": "e43b19de"
      },
      "outputs": [],
      "source": [
        "## 1.1.1\n",
        "## Load in the CET data file, \"CET_Nov2024.csv\", using Pandas. Call the imported DataFrame \"df\".\n",
        "## Print the values to see what you're dealing with, then make sure to adjust your code to infill\n",
        "## any missing values in the dataset as NaN's.\n",
        "filepath = '/content/drive/Shareddrives/GEOG-Paper_11_Envi_Data_Sci/L2/CET_Nov2024.csv'\n",
        "df =\n",
        "\n",
        "\n",
        "## 1.1.2 Redefine the four variables inside the \"df\" dataFrame as individual NumPy arrays\n",
        "## Do not change the variable names that have been provided!\n",
        "year =\n",
        "month =\n",
        "time =\n",
        "temp =\n",
        "\n",
        "## 1.1.3 Print the maximum and minimum values in your \"temp\" dataset to Make sure the range\n",
        "# of temperature values are valid. Use a single full sentence with f-formatting.\n",
        "\n",
        "\n",
        "# ## 1.1.4\n",
        "# Plot the time series up with adequate axis labels and axis limits! Use a linewidth\n",
        "# of 0.5 in your plot. Title the plot as \"Question 1.1.4\".\n",
        "\n"
      ]
    },
    {
      "cell_type": "markdown",
      "id": "a02651aa",
      "metadata": {
        "id": "a02651aa"
      },
      "source": [
        "#### _Suggestion_:\n",
        "In your plot, explore around with changing the x-axis limits to smaller and smaller intervals to more clearly see the annual cycles and different periods of variability more clearly!"
      ]
    },
    {
      "cell_type": "markdown",
      "id": "11417041",
      "metadata": {
        "id": "11417041"
      },
      "source": [
        "## **1.2**. _Calculate seasonal mean values_\n",
        "\n",
        "_Observation_: It's visually challenging to pick out long-term trends when looking at the monthly CET data! That's because there's a lot of data points (>4,000 of them), but also because the amplitude of the seasonal temperature cycle here in England is very large compared the magnitude of long term trends and interannual variations. So, we might like instead to condense this information down to explore trends across individual months, seasons, or across the year.  \n",
        "\n",
        "_Next, please calculate and plot the seasonal mean temperature time series for the CET_."
      ]
    },
    {
      "cell_type": "code",
      "execution_count": null,
      "id": "17f4d086",
      "metadata": {
        "id": "17f4d086"
      },
      "outputs": [],
      "source": [
        "## The following function called \"CET_seasonal_avg\" is provided for you. It creates\n",
        "## annual time series averaged over any input combination of months.\n",
        "\n",
        "## 1.2.1\n",
        "## The function is currently missing comments, making it hard to follow.\n",
        "## Please provide comments for each line of code, telling what it is doing.\n",
        "## Keep it succinct; full sentences are not needed, and please do not write\n",
        "## the equivalent of more than one sentence for each.\n",
        "## Note: you do NOT need to comment on the descriptive text located between\n",
        "## the three quotes (\"\"\"); however, please write what purpose both of these\n",
        "## three quotes serve in the function.\n",
        "\n",
        "def CET_seasonal_avg(year, month, temp, target_months=['Nov']):\n",
        "    \"\"\"\n",
        "    Create an annual time series averaged over multiple target months.\n",
        "    Parameters:\n",
        "        year (np.array): Nx1 array of years.\n",
        "        month (np.array): Nx1 array of months.\n",
        "        temp (np.array): Nx1 array of temperatures.\n",
        "        target_months (list): List of months to include (e.g., ['Jan', 'Feb']).\n",
        "            Defaults to the current month (November).\n",
        "    Returns:\n",
        "        np.array: Years.\n",
        "        np.array: Annual average temperature for the target months.\n",
        "    \"\"\"\n",
        "    mask = np.isin(month, target_months) & ~np.isnan(temp)\n",
        "    years = np.unique(year[mask])\n",
        "    annual_temps = []\n",
        "    for y in years:\n",
        "        yearly_mask = (year == y) & np.isin(month, target_months)\n",
        "        avg_temp = np.nanmean(temp[yearly_mask])\n",
        "        annual_temps.append(avg_temp)\n",
        "    return years, np.array(annual_temps)\n",
        "\n",
        "\n",
        "## 1.2.2\n",
        "## Let's imagine the \"year\" and \"month\" columns in CET_Nov2024.csv weren't\n",
        "##    available for us to index in CET_seasonal_avg, above. There are alternative\n",
        "##    ways one could still do seasonal averaging using just the \"time\"  and \"temp\"\n",
        "##    variables than the function above! Please describe ONE alternative option and\n",
        "##    explain the steps required and your reasoning (no strict word limit, but\n",
        "##    please be succinct and limit to <= 5 sentences).\n",
        "print(\"\") # leave this empty\n",
        "print(\"1.2.2: < Your answer for 1.2.2 here, 3-5 sentences >\")\n",
        "\n",
        "\n",
        "## 1.2.3\n",
        "## Please create a time series plot showing spring (MAM) and autumn (SON)\n",
        "## CET temperatures as anomalies relative to 1850-1899 CE, using relevant output from\n",
        "## the \"CET_seasonal_avg\" function. Make sure to include an accurately labeled legend\n",
        "## to distinguish between the two time series, as well as include adequate axis\n",
        "## labels and limits as per usual. Title the plot as \"1.2.3\".\n",
        "## (Hint: we did something similar to this in Supervision #1!)\n",
        "\n"
      ]
    },
    {
      "cell_type": "markdown",
      "id": "f28b7f41",
      "metadata": {
        "id": "f28b7f41"
      },
      "source": [
        "## **1.3**. _Visualising temperature anomalies in a more illuminating way_\n",
        "\n",
        "_We might care about the proportion of years where temperature deviations are highly anomalous relative to some reference period._\n",
        "\n",
        "_For this part, you're first going to calculate seasonal temperature anomalies of your choosing relative to the pre-1900 CE interval.  Then, for the three 40-yr periods starting in 1900 CE, you're going to calculate the proportion of years >2$\\sigma$ (2 standard deviations) above the pre-1900 CE mean._\n",
        "\n",
        "Finally, you'll plot the temperature anomalies in a more visually appealing way: red bars for positive anomalies, blue bars for negative anomalies (see example, here: https://www.globalchange.gov/indicators/global-surface-temperatures), with the 2$\\sigma$ level shown for comparison._"
      ]
    },
    {
      "cell_type": "code",
      "execution_count": null,
      "id": "7cee9d5c",
      "metadata": {
        "id": "7cee9d5c"
      },
      "outputs": [],
      "source": [
        "## 1.3.1\n",
        "## Choose a month(s) or season you plan to explore!\n",
        "print(\"\") # leave this empty\n",
        "print(\"1.3.1: I am going to analyse the month(s) [YOUR ANSWER HERE]\")\n",
        "\n",
        "\n",
        "## 1.3.2\n",
        "## Calculate the pre-1900 anomalies for the annual average month(s) you chose, above,\n",
        "## and define the resultant array as \"temp_anom\". (Note, you'll need to first output a\n",
        "## new temperature array using \"CET_seasonal_avg\" for your chosen month(s), above).\n",
        "## Then, calculate the \"2sigma level\" for all the pre-1900 years ( i.e., 2 standard\n",
        "## deviations above the pre-1900 mean of temp_anom using \"np.std\" ) as a floating\n",
        "## variable call \"threshold\".\n",
        "## Use \"np.std\" to calculate \"threshold\" (https://numpy.org/doc/stable/reference/generated/numpy.std.html)\n",
        "\n",
        "temp_anom =\n",
        "threshold =\n",
        "\n",
        "\n",
        "## 1.3.3\n",
        "## Calculate then print out the proportion of years in each post-1900 CE 40-year period\n",
        "## where temperature anomalies exceed the 2sigma \"theshold\". This will require a 'for'\n",
        "## loop and logical indexing.\n",
        "periods = [(1900, 1939), (1940, 1979), (1980, 2019)] # this defines the three post-1900 CE 40-year periods as a list\n",
        "for start, end in periods:\n",
        "    # The following line is only meant to illustrate how the \"start\", \"end\" values work in this loop (you can comment this out):\n",
        "    print(f'The current loop spans the period {start}-{end} CE') # comment this out once you see what start, end do in the loop\n",
        "\n",
        "    # Do your calculations here, incorporating \"start\" and \"end\" directly into your indexing:\n",
        "\n",
        "\n",
        "    # Use f-formatting to print the percentage of years for the current period, rounding to two decimal points:\n",
        "\n",
        "\n",
        "## 1.3.4\n",
        "## The below line of code assigns a color of \"red\" or \"blue\" to each element of \"temp_anom\"\n",
        "colors = ['red' if tempi > 0 else 'blue' for tempi in temp_anom]\n",
        "## In <= 2 sentences, explain how this single line of code combines both conditional logic and a for loop\n",
        "## to create the array \"colors\"?\n",
        "print(\"\") # leave this empty\n",
        "print(\"1.3.4: < Your answer for 1.3.6 here, 1-2 sentences >\")\n",
        "\n",
        "\n",
        "## 1.3.5\n",
        "## Create a bar plot of temp_anom, using the \"colors\" array to assign the bar colors correctly.\n",
        "## Please make sure your labels and axis limits are correct. Plot the 2sigma threshold level as\n",
        "## a horizontal dashed black line. Define a label for the 2sigma level and define it in a legend\n",
        "## See: https://matplotlib.org/stable/api/_as_gen/matplotlib.pyplot.bar.html\n",
        "\n",
        "\n",
        "## 1.3.6\n",
        "# Do the proportions of years with temperature anomalies above the 2-sigma \"threshold\" in the post-1900 CE\n",
        "# periods match what we'd expect if the climate had NOT changed since before 1900? Explain your reasoning.\n",
        "# Hint: Use the 68-95-99.7 rule -- https://en.wikipedia.org/wiki/68%E2%80%9395%E2%80%9399.7_rule\n",
        "print(\"\") # leave this empty\n",
        "print(\"1.3.6: < Your answer for 1.3.6 here, 2-3 sentences >\")\n"
      ]
    },
    {
      "cell_type": "markdown",
      "id": "db28be4b",
      "metadata": {
        "id": "db28be4b"
      },
      "source": [
        "\n",
        "## **1.4**. _Warming stripes: a powerful way to visualise global warming_\n",
        "\n",
        "Time series are useful, but there are other visually arresting ways to showcase climate trends.\n",
        "\n",
        "_Use the mean-annual CET time series to create a \"Warming stripes\" diagram (https://en.wikipedia.org/wiki/Warming_stripes).  Follow the example given here, copying and changing **relevant** components: https://matplotlib.org/matplotblog/posts/warming-stripes/._\n",
        "\n",
        "**Note** This is meant to be a challenge in code adaptation and data visualisation: you will be using somebody else's coded example, adapted to your own purpose/dataset (a practice that is VERY common in data analysis). Give it a go!\n",
        "\n",
        "Hints: \\\n",
        "I got the below plot by setting ``LIM = 1.75``, and setting the ``reference`` to the mean temperature between 1950 and 1980 -- play around with what works well to your eye!\n",
        "\n",
        "<!-- <img src=\"/content/drive/Shareddrives/GEOG-Paper_11_Envi_Data_Sci/L2/warming_stripe_CET_annual.png\" alt=\"Question 1.4 example\" width=\"50%\" />  -->\n",
        "\n",
        "![Question 1.4 example](https://drive.google.com/uc?id=1YBUnR4SHz3YAHKzDqI4tNeEkUtWCVyJ_)\n"
      ]
    },
    {
      "cell_type": "code",
      "execution_count": null,
      "id": "5ea59509",
      "metadata": {
        "id": "5ea59509"
      },
      "outputs": [],
      "source": [
        "## 1.4.1\n",
        "## Create the warming stripes diagram, adapting code from\n",
        "## https://matplotlib.org/matplotblog/posts/warming-stripes/\n",
        "## Copy and adjust your code, below:\n",
        "\n",
        "\n",
        "## 1.4.2\n",
        "## Reflection:\n",
        "## What challenges did you face when adapting someone else’s code for your specific dataset,\n",
        "##    and how did you approach understanding and modifying it?\n",
        "print(\"\") # leave this empty\n",
        "print(\"1.4.2.: < Your answer for 1.4.2 here, 2-4 sentences >\")\n",
        "\n",
        "\n",
        "## 1.4.3\n",
        "## Reflection:\n",
        "## How does the \"warming stripes\" visualization communicate climate change effectively,\n",
        "##    and what potential limitations or biases underpin this minimalist approach?\n",
        "print(\"\") # leave this empty\n",
        "print(\"1.4.3.: < Your answer for 1.4.3 here, 2-4 sentences >\")\n"
      ]
    },
    {
      "cell_type": "markdown",
      "id": "5a7f3135",
      "metadata": {
        "id": "5a7f3135"
      },
      "source": [
        "## Part 2: Exploring historical UK spatial precipitation patterns\n",
        "\n",
        "#### Movitation / background:\n",
        "\n",
        "This one's personal.  \n",
        "\n",
        "Before moving to Cambridge from the dry, sunny US Southwest, I was told \"It'd be an easy transition because Cambridge is the driest, sunniest place in the UK\".  (Regardless of whether this is true, I sometimes can't help but feel cheated by this claim!)\n",
        "\n",
        "For Part 2, you're going to help me decide whether my feelings are validated or not, by mapping the observed spatial precipitation patterns across the UK to find the _true_ driest place in the UK.\n",
        "                                                                                     "
      ]
    },
    {
      "cell_type": "markdown",
      "id": "9e843578",
      "metadata": {
        "id": "9e843578"
      },
      "source": [
        "## Data\n",
        "The UK Met Office maintains an up-to-date version of gridded climate variables across the UK, via a product called _HadUK-Grid_.  This product is derived by interpolating land-based meteorological station data across the UK, spanning back to 1836. The grids are available for numerous variables including air temperature, precipitation, sunshine, mean sea level pressure, wind speed, relative humidity, vapour pressure, days of snow lying, and days of ground frost, spanning daily, monthly, up to >annual timescales.\n",
        "\n",
        "In our Google Drive folder repository you've been provided a netCDF file called _\"rainfall_hadukgrid_uk_5km_ann-30y_199101-202012.nc\"_ which contains the 5 km-gridded precipitation values for the UK. These data and many others are publicly available from the Centre for Environmental Data Analysis (CEDA):\n",
        "\n",
        "Met Office; Hollis, D.; McCarthy, M.; Kendon, M.; Legg, T.; Simpson, I. (2018): HadUK-Grid gridded and regional average climate observations for the UK. Centre for Environmental Data Analysis, October 15, 2024. http://catalogue.ceda.ac.uk/uuid/4dc8450d889a491ebb20e724debe2dfb/\n"
      ]
    },
    {
      "cell_type": "markdown",
      "id": "5f58f385",
      "metadata": {
        "id": "5f58f385"
      },
      "source": [
        "### **2.1**. _Open and explore the dataset using xarray_\n",
        "\n",
        "_Open the netCDF file \"rainfall_hadukgrid_uk_5km_ann-30y_199101-202012.nc\" using XArray, and print out the variables included in the file._\n",
        "\n",
        "https://docs.xarray.dev/en/stable/generated/xarray.open_dataset.html"
      ]
    },
    {
      "cell_type": "code",
      "execution_count": null,
      "id": "1fb275a7",
      "metadata": {
        "id": "1fb275a7"
      },
      "outputs": [],
      "source": [
        "## 2.1.1\n",
        "## Define filepath to the datafile (*.nc)\n",
        "filepath =  # add the Google Collab datapath here!\n",
        "\n",
        "\n",
        "## 2.1.2\n",
        "## Use the filepath to open the netCDF datafile in xarray, call the array \"ds\"\n",
        "\n",
        "\n",
        "## 2.1.3\n",
        "## Print information on the variables stored in the netCDF file\n",
        "\n",
        "\n",
        "## 2.1.4\n",
        "## What are the relevant variables you'll need to extract to plot rainfall:\n",
        "print(\" \") # leave this empty\n",
        "print(\"2.1.4: The relevant variables needing to be extracted are [YOUR ANSWER HERE].\")\n"
      ]
    },
    {
      "cell_type": "markdown",
      "id": "63cab5f4",
      "metadata": {
        "id": "63cab5f4"
      },
      "source": [
        "### **2.2**. _Extract the relevant variables_\n",
        "\n",
        "_Load in the relevant data as unique variable names from \"rainfall_hadukgrid_uk_5km_ann-30y_199101-202012.nc\" using XArray, print their dimensions, and answer the following questions._\n",
        "\n",
        "https://docs.xarray.dev/en/stable/generated/xarray.open_dataset.html"
      ]
    },
    {
      "cell_type": "code",
      "execution_count": null,
      "id": "c2bb54fe",
      "metadata": {
        "id": "c2bb54fe"
      },
      "outputs": [],
      "source": [
        "## 2.2.1\n",
        "# For ease, extract the relevant variables you need for plotting from \"ds\" and print their dimensions\n",
        "# https://numpy.org/doc/2.0/reference/generated/numpy.shape.html\n",
        "latitude = # complete this line\n",
        "longitude = # complete this line\n",
        "rainfall = # complete this line\n",
        "# ...and print their dimensions:\n",
        "\n",
        "\n",
        "## 2.2.2\n",
        "# Why might latitude and longitude be 2D arrays rather than 1D arrays?\n",
        "print(\"\")\n",
        "print(\"2.2.2: < Your answer for 2.2.2 here, 1-2 sentences >\")\n",
        "\n",
        "\n",
        "## 2.2.3\n",
        "# What are singleton dimensions, and what dimension of \"rainfall\" is a \"singleton\" dimension?\n",
        "print(\"\")\n",
        "print(\"2.2.3: < Your answer for 2.2.3 here, 1-2 sentences >\")\n",
        "\n",
        "\n",
        "## 2.2.4\n",
        "# Remove the singleton dimension of rainfall. Confirm by rechecking the shape of \"rainfall\"\n",
        "# Singleton dimensions can be removed either by \"squeezing\" the data, or taking the mean along the relevant dimension\n",
        "# https://numpy.org/doc/2.0/reference/generated/numpy.squeeze.html\n",
        "\n"
      ]
    },
    {
      "cell_type": "markdown",
      "id": "ccb54d21",
      "metadata": {
        "id": "ccb54d21"
      },
      "source": [
        "### **2.3**. _Find the driest UK location_\n",
        "\n",
        "_Next, your task is to find the coordinates of the driest location in the UK ... is it Cambridge?!_\n"
      ]
    },
    {
      "cell_type": "code",
      "execution_count": null,
      "id": "61774d0b",
      "metadata": {
        "id": "61774d0b"
      },
      "outputs": [],
      "source": [
        "## 2.3.1\n",
        "# Next, the following line of code should*** find the indices of the minimum rainfall value for you.\n",
        "# There are three operations happening (i.e., functions being called) in this single line of code;\n",
        "# please explain what these three operations are doing?\n",
        "# ***NOTE: I've named the \"latitude\" and \"rainfall\" variables stored in our netCDF accordingly.  If\n",
        "#      you've called these arrays something different, please change line of code below accordingly!\n",
        "min_coords = np.unravel_index(np.nanargmin(rainfall), latitude.shape)\n",
        "print(\"2.3.1: < Your answer for 2.3.1 here, 2-4 sentences >\")\n",
        "\n",
        "\n",
        "## 2.3.2\n",
        "# Print the coordinates for the driest location in the UK so that it reads:\n",
        "# \"The driest location in the UK is at __˚N and __˚E\"\n",
        "# ...rounding to two decimal places.\n"
      ]
    },
    {
      "cell_type": "markdown",
      "id": "4d0c249c",
      "metadata": {
        "id": "4d0c249c"
      },
      "source": [
        "### **2.4**. _Plot UK precipitation_\n",
        "\n",
        "_Finally, plot a map of UK precipitation, denoting the locations of Cambridge vs. the driest UK location. **Follow the example provided in Lecture 2!**_\n",
        "\n",
        "##### Plot data on map\n",
        "\n",
        "(2.4.1) Define map projection `ccrs.PlateCarree()` <br>\n",
        "https://scitools.org.uk/cartopy/docs/v0.15/crs/projections.html.  Call the map projection `proj`.\n",
        "\n",
        "(2.4.2) Define the new figure size and axis parameters.\n",
        "\n",
        "(2.4.3) Set color levels for figure (uncomment list by removing the leading #) <br>\n",
        "\n",
        "(2.4.4) Set colormap: `BrBG`  <br>\n",
        "https://matplotlib.org/3.5.1/tutorials/colors/colormaps.html\n",
        "\n",
        "(2.4.5) Use `plt.contourf()` to plot **rainfall** as a function of **latitude** and **longitude**. <br>\n",
        "https://matplotlib.org/3.5.1/api/_as_gen/matplotlib.pyplot.contour.html\n",
        "\n",
        "(2.4.6) Define a horizontal colorbar with ticks at the specified color levels <br>\n",
        "https://matplotlib.org/3.5.0/api/_as_gen/matplotlib.pyplot.colorbar.html\n",
        "* _Note_: Note the ``extend`` parameter should be adjusted such that the colourbar arrow points only toward maximum precipitation values (assuming your minimum precipitation value is set as 0). <br>\n",
        "\n",
        "(2.4.7) Set an appropriate label on the colorbar with a fontsize of 12 <br>\n",
        "https://matplotlib.org/3.5.0/api/_as_gen/matplotlib.pyplot.colorbar.html\n",
        "* _Note_: the correct units of the rainfall field can be found and set directly from the netCDF file -- search for it! <br>\n",
        "\n",
        "(2.4.8) Add coastlines <br>\n",
        "https://scitools.org.uk/cartopy/docs/v0.15/matplotlib/intro.html\n",
        "\n",
        "(2.4.9) Use ``plt.scatter()`` to add scatter points for Cambridge (make a red circle) and the driest location (make a yellow star) <br>\n",
        "https://matplotlib.org/stable/api/_as_gen/matplotlib.pyplot.scatter.html\n",
        "* _Note_: Label the scatter points using label=\"<your label>\", so you can denote each via a legend! <br>\n",
        "* _Note_: Set the keyword argument `transform=proj`, from step (2.4.1).\n",
        "\n",
        "(2.4.10) Add a legend denoting your location scatter points.  Note you need to assign labels in the prior step!\n",
        "https://matplotlib.org/stable/api/_as_gen/matplotlib.pyplot.legend.html\n",
        "    \n",
        "Here's what my version looks like -- feel free to give yourself some small artistic discretion.\n",
        "    \n",
        "<!-- <img src=\"Map_of_UK_precipitation.png\" alt=\"Map of UK_precipitation example\" width=\"75%\" />   -->\n",
        "\n",
        "![Question 2.4 example](https://drive.google.com/uc?id=1QBv8vJzKFw1oeEXLdniFYd1m0v9CWgSf)\n"
      ]
    },
    {
      "cell_type": "code",
      "execution_count": null,
      "id": "5e5a1967",
      "metadata": {
        "id": "5e5a1967"
      },
      "outputs": [],
      "source": [
        "## 2.4.1\n",
        "# Define map projection ccrs.PlateCarree()\n",
        "proj =\n",
        "\n",
        "## 2.4.2\n",
        "# Define figure\n",
        "\n",
        "\n",
        "## 2.4.3\n",
        "# Set color levels for figure (uncomment list by removing the leading #)\n",
        "\n",
        "\n",
        "## 2.4.4\n",
        "# Set colormap:\n",
        "\n",
        "\n",
        "## 2.4.5\n",
        "# Use plt.contourf() to plot precipitation data as a function of latitude and longitude.\n",
        "\n",
        "\n",
        "## 2.4.6\n",
        "# Define a horizontal colorbar with colorbar tick adjusted to an appropriate spacing\n",
        "\n",
        "\n",
        "## 2.4.7\n",
        "# Set an appropriate label in the colorbar with a fontsize of 12\n",
        "# the correct units of the rainfall field can be found and set directly using the netCDF file -- try to do so!\n",
        "\n",
        "\n",
        "## 2.4.8\n",
        "# Add coastlines\n",
        "\n",
        "\n",
        "## 2.4.9\n",
        "# Add Cambridge location scatter point:\n",
        "# [cambridge latitude: 52.1951˚N, cambridge longitude: 0.1313˚E]\n",
        "\n",
        "## And, add dryest location scatter point:\n",
        "\n",
        "\n",
        "## 2.4.10\n",
        "# Add legend\n",
        "\n",
        "\n",
        "### ### ### ### ### ### ### ### ###\n",
        "### ** +++ Do not modify +++ ** ###\n",
        "\n",
        "## Add gridlines (lon/lat markers)\n",
        "gl = ax.gridlines(crs=ccrs.PlateCarree(),\n",
        "                  draw_labels=True, linewidth=1.5,\n",
        "                  color='xkcd:gray', alpha=0.5, linestyle=':')\n",
        "gl.top_labels = False\n",
        "gl.left_labels = True\n",
        "gl.xformatter = LONGITUDE_FORMATTER\n",
        "gl.yformatter = LATITUDE_FORMATTER\n",
        "gl.xlabel_style = {'size': 12}\n",
        "gl.ylabel_style = {'size': 12}\n"
      ]
    },
    {
      "cell_type": "markdown",
      "id": "ad172501",
      "metadata": {
        "id": "ad172501"
      },
      "source": [
        "## **2.5**. _Does Cambridge have the driest climate in the UK?_\n"
      ]
    },
    {
      "cell_type": "code",
      "execution_count": null,
      "id": "e279feac",
      "metadata": {
        "id": "e279feac"
      },
      "outputs": [],
      "source": [
        "## 2.5.1\n",
        "print(\"< Your answer here, in one emphatic word > \")"
      ]
    },
    {
      "cell_type": "markdown",
      "id": "871f5ee1",
      "metadata": {
        "id": "871f5ee1"
      },
      "source": [
        "## End of Problem Set 2\n"
      ]
    }
  ],
  "metadata": {
    "colab": {
      "provenance": [],
      "include_colab_link": true
    },
    "kernelspec": {
      "display_name": "Python 3 (ipykernel)",
      "language": "python",
      "name": "python3"
    },
    "language_info": {
      "codemirror_mode": {
        "name": "ipython",
        "version": 3
      },
      "file_extension": ".py",
      "mimetype": "text/x-python",
      "name": "python",
      "nbconvert_exporter": "python",
      "pygments_lexer": "ipython3",
      "version": "3.11.4"
    }
  },
  "nbformat": 4,
  "nbformat_minor": 5
}